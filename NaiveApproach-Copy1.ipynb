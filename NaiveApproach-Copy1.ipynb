{
 "cells": [
  {
   "cell_type": "code",
   "execution_count": 870,
   "id": "13d506f9",
   "metadata": {},
   "outputs": [],
   "source": [
    "import jieba\n",
    "import numpy as np\n",
    "import os, glob, time, copy, random, zipfile\n",
    "import matplotlib.pyplot as plt\n",
    "from PIL import Image\n",
    "from sklearn.model_selection import train_test_split\n",
    "from tqdm.notebook import tqdm\n",
    "import random\n",
    "\n",
    "import torch\n",
    "import torch.nn as nn\n",
    "import torch.optim as optim\n",
    "import torch.utils.data as data\n",
    "import torch.nn.functional as F\n",
    "import torchvision\n",
    "from torchvision import models, transforms"
   ]
  },
  {
   "cell_type": "code",
   "execution_count": 871,
   "id": "be825aef",
   "metadata": {},
   "outputs": [],
   "source": [
    "from os import listdir\n",
    "from os.path import isfile, join,splitext\n",
    "t_dir = 'dataTrainComplete'\n",
    "#t_dir = 'dataPrivateComplete\\dataPrivateComplete'\n",
    "#t_dir = 'Stage_2\\dataPublicComplete_s2\\dataPublicComplete'\n",
    "txt_fnames = [splitext(f)[0] for f in listdir(t_dir) if isfile(join(t_dir, f))] #Article filenames"
   ]
  },
  {
   "cell_type": "code",
   "execution_count": 872,
   "id": "7bc3ef2f",
   "metadata": {},
   "outputs": [],
   "source": [
    "location_dict = {'台北':0,'台中':1,'台南':2,'苗栗':3,'彰化':4,'南投':5,'雲林':6,'嘉義':7,'屏東':8,'宜蘭':9,'花蓮':10,'台東':11}\n",
    "area_dict = {'北部':[0],'東北部':[0,9,10,11],'中北部':[0,1,3,4,5,6],'中南部':[1,2,3,4,5,6,7,8]}\n",
    "for ld in location_dict:jieba.add_word(ld)\n",
    "for ad in location_dict:jieba.add_word(ad)"
   ]
  },
  {
   "cell_type": "code",
   "execution_count": 863,
   "id": "2485dec7",
   "metadata": {},
   "outputs": [],
   "source": [
    "crop_list = open('Keywords/02crop.list_del.csv', \"r\",encoding='UTF-8-sig')\n",
    "crop = crop_list.read()\n",
    "crop_line_sep = crop.splitlines()\n",
    "\n",
    "pest_list = open('Keywords/02pest.list.csv', \"r\",encoding='UTF-8-sig')\n",
    "pest = pest_list.read()\n",
    "pest_line_sep = pest.splitlines()\n",
    "\n",
    "chem_list = open('Keywords/02chem.list.csv', \"r\",encoding='UTF-8-sig')\n",
    "chem = chem_list.read()\n",
    "chem_line_sep = chem.splitlines()\n",
    "#Keywords split by lines, keyword with more than one entry will be on the same line"
   ]
  },
  {
   "cell_type": "code",
   "execution_count": 864,
   "id": "f188a20d",
   "metadata": {},
   "outputs": [
    {
     "data": {
      "text/plain": [
       "373"
      ]
     },
     "execution_count": 864,
     "metadata": {},
     "output_type": "execute_result"
    }
   ],
   "source": [
    "from itertools import chain\n",
    "import csv\n",
    "vector_dict = {}\n",
    "#Keyword lookup with keyword as key and vector index as value\n",
    "keyword_count = 0\n",
    "#for idx,line in enumerate(chain(crop_line_sep,pest_line_sep,chem_line_sep)):\n",
    "for idx,line in enumerate(chain(crop_line_sep,pest_line_sep)):\n",
    "    l = line.split(',')\n",
    "    keyword_count += 1\n",
    "    for word in l:\n",
    "        #Some line will have more than one entry, which should have the same vector index\n",
    "        if(word == '' or word == ' '):continue\n",
    "        jieba.add_word(word)#Each keyword is added to jieba\n",
    "        vector_dict[word] = idx\n",
    "        \n",
    "secondary_dict = {}\n",
    "secondary_count = 0\n",
    "for idx,line in enumerate(chem_line_sep):\n",
    "    l = line.split(',')\n",
    "    secondary_count += 1\n",
    "    for word in l:\n",
    "        #Some line will have more than one entry, which should have the same vector index\n",
    "        if(word == '' or word == ' '):continue\n",
    "        jieba.add_word(word)#Each keyword is added to jieba\n",
    "        secondary_dict[word] = idx\n",
    "keyword_count"
   ]
  },
  {
   "cell_type": "code",
   "execution_count": 865,
   "id": "75ad850d",
   "metadata": {},
   "outputs": [
    {
     "data": {
      "text/plain": [
       "'\\nfor key in loc_vectors:\\n    v = loc_vectors[key]\\n    curr = 0\\n    for b in v:\\n        if(b):curr = (curr << 1) + 1\\n        else:curr = curr << 1\\n    loc_vectors[key] = curr\\n'"
      ]
     },
     "execution_count": 865,
     "metadata": {},
     "output_type": "execute_result"
    }
   ],
   "source": [
    "vectors = {}\n",
    "loc_vectors = {}\n",
    "sec_vectors = {}\n",
    "#Vector table with filename as key and vector as value\n",
    "for fname in txt_fnames:\n",
    "    txt = open(t_dir+'/'+fname+'.txt', \"r\",encoding=\"utf-8\")\n",
    "    content = txt.read()\n",
    "    seg_list = jieba.cut(content, cut_all=True)\n",
    "    vectors[fname] = [False]*keyword_count\n",
    "    sec_vectors[fname] = [False]*secondary_count\n",
    "    loc_vectors[fname] = [False]*12\n",
    "    #Initialize an 0 vector for each file\n",
    "    for seg in seg_list:\n",
    "        if(seg in vector_dict):\n",
    "            vectors[fname][vector_dict[seg]] = True\n",
    "            #Count keyword appearence - Bag of words\n",
    "        if(seg in location_dict):\n",
    "            loc_vectors[fname][location_dict[seg]] = True\n",
    "        if(seg in area_dict):\n",
    "            for idx in area_dict[seg]:\n",
    "                loc_vectors[fname][idx] = True\n",
    "        if(seg in secondary_dict):\n",
    "            sec_vectors[fname][secondary_dict[seg]] = True\n",
    "    \"\"\"\n",
    "    for keyword in vector_dict:\n",
    "        if(keyword in content):\n",
    "            vectors[fname][vector_dict[keyword]] = True\n",
    "    \"\"\"\n",
    "for key in vectors:\n",
    "    v = vectors[key]\n",
    "    curr = 0\n",
    "    for b in v:\n",
    "        if(b):curr = (curr << 1) + 1\n",
    "        else:curr = curr << 1\n",
    "    vectors[key] = curr\n",
    "    \n",
    "for key in sec_vectors:\n",
    "    v = sec_vectors[key]\n",
    "    curr = 0\n",
    "    for b in v:\n",
    "        if(b):curr = (curr << 1) + 1\n",
    "        else:curr = curr << 1\n",
    "    sec_vectors[key] = curr\n",
    "\"\"\"\n",
    "for key in loc_vectors:\n",
    "    v = loc_vectors[key]\n",
    "    curr = 0\n",
    "    for b in v:\n",
    "        if(b):curr = (curr << 1) + 1\n",
    "        else:curr = curr << 1\n",
    "    loc_vectors[key] = curr\n",
    "\"\"\""
   ]
  },
  {
   "cell_type": "code",
   "execution_count": 866,
   "id": "77381628",
   "metadata": {},
   "outputs": [],
   "source": [
    "def countSetBits(n):\n",
    "    count = 0\n",
    "    while (n):\n",
    "        n &= (n-1)\n",
    "        count+= 1\n",
    "    return count"
   ]
  },
  {
   "cell_type": "code",
   "execution_count": 867,
   "id": "9c18b0f1",
   "metadata": {},
   "outputs": [],
   "source": [
    "corr_list = open('TrainLabel.csv', \"r\",encoding='UTF-8-sig')\n",
    "corr = corr_list.read()\n",
    "corr_line_sep = corr.splitlines()\n",
    "pos_labels = set() #faster lookup to filter out positive pairs, not used elsewhere\n",
    "#All the associated article pairs given by train label\n",
    "for line in corr_line_sep[1:]:\n",
    "    l = line.split(',')\n",
    "    pos_pair_list.append((l[0],l[1]))\n",
    "    pos_labels.add((l[0],l[1]))"
   ]
  },
  {
   "cell_type": "code",
   "execution_count": 868,
   "id": "f4e04946",
   "metadata": {},
   "outputs": [],
   "source": [
    "out = []\n",
    "loc_tracking = False\n",
    "saved_entries = 0\n",
    "failed = 0\n",
    "for Ref in txt_fnames:\n",
    "    for Test in txt_fnames:\n",
    "        if(Ref == Test):continue\n",
    "        if(countSetBits(vectors[Test] ^ (vectors[Test] & vectors[Ref])) == 0 and vectors[Test] != 0 and vectors[Ref] != 0):\n",
    "            if(abs(countSetBits(vectors[Ref]) - countSetBits(vectors[Test])) < 3):\n",
    "                if(sec_vectors[Test] == 0):\n",
    "                    out.append((Test,Ref))\n",
    "                elif(sec_vectors[Test] ^ (sec_vectors[Test] & sec_vectors[Ref]) == 0):\n",
    "                    out.append((Test,Ref))"
   ]
  },
  {
   "cell_type": "code",
   "execution_count": 873,
   "id": "4f102315",
   "metadata": {},
   "outputs": [
    {
     "name": "stdout",
     "output_type": "stream",
     "text": [
      "964 1915\n",
      "Recall: 0.6970354302241504 Precision: 0.5033942558746737 F1 0.5845967252880533\n"
     ]
    }
   ],
   "source": [
    "count = 0\n",
    "bads = []\n",
    "for o in out:\n",
    "    if(o in pos_labels):count+=1\n",
    "    else:bads.append(o)\n",
    "recall,precision = count/len(pos_labels),count/len(out)\n",
    "print(count,len(out))\n",
    "print('Recall:',recall,'Precision:',precision,'F1',2*(recall*precision)/(recall+precision))"
   ]
  },
  {
   "cell_type": "code",
   "execution_count": 808,
   "id": "99743ffa",
   "metadata": {},
   "outputs": [
    {
     "name": "stdout",
     "output_type": "stream",
     "text": [
      "1170\n",
      "1178\n",
      "887\n",
      "969\n"
     ]
    }
   ],
   "source": [
    "for key in vectors:\n",
    "    if(vectors[key] == 0):\n",
    "        print(key)"
   ]
  },
  {
   "cell_type": "code",
   "execution_count": 809,
   "id": "4893dbf2",
   "metadata": {},
   "outputs": [],
   "source": [
    "tmp = {}\n",
    "for fname in txt_fnames:\n",
    "    txt = open(t_dir+'/'+fname+'.txt', \"r\",encoding=\"utf-8\")\n",
    "    content = txt.read()\n",
    "    seg_list = jieba.cut(content, cut_all=True)\n",
    "    t = set()\n",
    "    ad = False\n",
    "    for seg in seg_list:\n",
    "        if(seg in vector_dict):\n",
    "            t.add(seg)\n",
    "        if(seg == '地區'):\n",
    "            ad = True\n",
    "    if(ad):\n",
    "        tmp[fname] = [t,content]\n",
    "for k in tmp:\n",
    "    print(k,tmp[k][1])"
   ]
  },
  {
   "cell_type": "code",
   "execution_count": 794,
   "id": "5a30a453",
   "metadata": {},
   "outputs": [
    {
     "name": "stdout",
     "output_type": "stream",
     "text": [
      "1007 乍暖還寒，防檢局籲請農友加強防治稻熱病\n",
      "農委會防檢局表示，全國各地水稻生長陸續進入分蘗期，因逢暖冬，且最近天氣乍暖還寒，溫度變化大，再加上濕度高，非常容易發生稻熱病。依據田間監測資料顯示，中南部局部地區已有零星發生，該局特別呼籲全國農友應做好肥培、田間管理並依病情配合適時施藥防治，以防範稻熱病發生，確保稻米產量與品質。防檢局說，稻熱病為一種真菌性病害，在攝氏22度至30度及高濕度環境下容易發生。一期作水稻葉稻熱病多發生在3月下旬至5月上旬，尤其是4月上、中旬，也就是清明節過後半個月內最常發生，農友應把握時機切實防治。尤其是施用氮肥過多或接近山區的稻田，一旦田間發生病徵時，應立即施藥，以避免病害擴散蔓延。該局指出，稻熱病發病初期會在葉面上形成褐色或暗綠色小斑點，當環境適合時，病斑會逐漸擴大成紡錘形，其周圍呈黃色，中間赤褐色，內部灰白色，當受害嚴重時葉片枯萎甚至全株乾枯呈稻燒狀。稻熱病發病週期僅4至5天，故極易在短時間內爆發病害，若未加以防範，可能造成大面積蔓延危害。防檢局進一步說明，雖然稻熱病是本土水稻栽培的老病害，但每年隨氣候差異仍會造成不同程度的危害，該局籲請農友應隨時觀察田間病害發生情形，在插秧後35至50天，田間如發現葉稻熱病病徵時，應立即施藥一次，7天後，如有繼續蔓延，則再施藥一次。對該病的防治，農友可逕上防檢局農藥資訊服務網（http://pesticide.baphiq.gov.tw/）查詢或參考農委會編印之植物保護手冊用藥，並應遵守藥劑使用規定。防檢局同時表示，農友如有水稻稻熱病或其他植物病蟲害的問題，可以就近前往農委會所屬試驗改良場所請求協助診斷與指導，也可以透過植物病蟲害診斷服務專線：0800-069-880，與各地的診斷服務站專家聯繫洽詢。\n",
      "\n",
      "\n",
      "103 桃園市及新竹縣部分鄉鎮區已發生葉稻熱病，為避免病害迅速蔓延，請農友適時防治。桃園區農改場、防檢局及田邊好幫手關心您。\n",
      "依據桃園區農改場研究人員巡迴調查水稻疫情結果，轄內部分地區(桃園市楊梅區及新竹縣新豐鄉、竹北市、芎林鄉、北埔鄉、峨眉鄉等)已發生葉稻熱病，且近期氣候符合發病條件，為避免病害迅速蔓延，請農友適時防治。水稻葉稻熱病為一期稻作之重要病害，發病初期於葉面上形成褐色或暗綠色小斑點；如環境適合，則擴大成紡錘形，而病斑周圍呈黃色，中間赤褐色，內部灰白色；嚴重時葉片枯萎甚至全株枯死。此病害好發於高溫多濕、早晚溫差大之氣候，種植非抗病品種水稻、過度施用氮肥及通風不良稻田尤應注意。因此，本場籲請農友加強水稻葉稻熱病防治工作。\n",
      "一、預警區域：桃園市及新竹縣市各鄉鎮市區水稻栽培區。二、防治注意事項：（1）不可過度施用氮肥，以免稻熱病迅速蔓延。（2）發現稻熱病病斑，應即施藥，如病勢持續蔓延，應再噴施藥劑防治。三、防治藥劑及防治時期：請參考防檢局農藥資訊服務網(https://pesticide.baphiq.gov.tw/)用藥。\n",
      "\n",
      "--------------------------\n",
      "1015 稻熱病蠢蠢欲動、防檢局籲請農友加強防範\n",
      "目前水稻生長陸續進入分蘗期，由於最近氣候乍暖還寒，溫度變化大且陰晴不定，再加上濕度高，非常容易發生稻熱病。農委會防檢局特別呼籲農友應做好肥培、田間管理並依病情配合適時施藥防治，以防範稻熱病發生，確保稻米產量與品質。防檢局表示稻熱病為一種真菌性病害，在攝氏22度至30度及高濕度環境下容易發生。一期作水稻葉稻熱病多發生在3月下旬至5月上旬，尤其是4月上、中旬，也就是清明節前後半個月內最常發生。依據田間監測資料顯示，彰化、雲林、嘉義、台南、高雄、屏東、花蓮及台東等部分地區已有零星稻熱病疫情發生，目前中南部及東部地區皆屬高風險區域，對此，台中、台南、高雄、花蓮、台東區農業改良場與該局皆已發佈稻熱病疫情警報(如附件1至4)，農友應把握時機切實防治。尤其是施用氮肥過多或接近山區的稻田，一旦田間發生病徵時，應立即施藥，以避免病害擴散蔓延。防檢局並指出，稻熱病發病初期會在葉面上形成褐色或暗綠色小斑點，當環境適合時，病斑會逐漸擴大成紡錘形，其周圍呈黃色，中間赤褐色，內部灰白色，當受害嚴重時葉片枯萎甚至全株乾枯呈稻燒狀。稻熱病發病週期僅4至5天，故極易在短時間內爆發病害，若未加以防範，可能造成大面積蔓延危害。防檢局進一步說明，雖然稻熱病是本土水稻栽培的老病害，但每年隨氣候差異仍會造成不同程度的危害，該局籲請農友應隨時觀察田間病害發生情形，在插秧後35至50天，田間如發現葉稻熱病病徵時，應立即施藥一次，經7天後如有病徵持續擴大，則再施藥一次。對該病的防治，農友可逕上防檢局農藥資訊服務網（http://pesticide.baphiq.gov.tw/）查詢或參考農委會編印之植物保護手冊用藥，並應遵守藥劑使用規定。防檢局特別提醒農友們對於稻熱病或任何農作物上的用藥若有疑問，可逕上該局農藥資訊服務網查詢或參考農委會編印之植物保護手冊用藥，並應遵守藥劑使用規定。亦可就近前往農委會所屬試驗改良場所請求協助診斷與指導，或透過植物病蟲害診斷服務專線：0800-069-880，與各地的診斷服務站專家洽詢。\n",
      "\n",
      "\n",
      "103 桃園市及新竹縣部分鄉鎮區已發生葉稻熱病，為避免病害迅速蔓延，請農友適時防治。桃園區農改場、防檢局及田邊好幫手關心您。\n",
      "依據桃園區農改場研究人員巡迴調查水稻疫情結果，轄內部分地區(桃園市楊梅區及新竹縣新豐鄉、竹北市、芎林鄉、北埔鄉、峨眉鄉等)已發生葉稻熱病，且近期氣候符合發病條件，為避免病害迅速蔓延，請農友適時防治。水稻葉稻熱病為一期稻作之重要病害，發病初期於葉面上形成褐色或暗綠色小斑點；如環境適合，則擴大成紡錘形，而病斑周圍呈黃色，中間赤褐色，內部灰白色；嚴重時葉片枯萎甚至全株枯死。此病害好發於高溫多濕、早晚溫差大之氣候，種植非抗病品種水稻、過度施用氮肥及通風不良稻田尤應注意。因此，本場籲請農友加強水稻葉稻熱病防治工作。\n",
      "一、預警區域：桃園市及新竹縣市各鄉鎮市區水稻栽培區。二、防治注意事項：（1）不可過度施用氮肥，以免稻熱病迅速蔓延。（2）發現稻熱病病斑，應即施藥，如病勢持續蔓延，應再噴施藥劑防治。三、防治藥劑及防治時期：請參考防檢局農藥資訊服務網(https://pesticide.baphiq.gov.tw/)用藥。\n",
      "\n",
      "--------------------------\n",
      "893 稻熱病已零星發生，屏東縣政府籲請農友加強注意防範稻熱病，屏東縣政府、防檢局及田邊好幫手關心您。\n",
      "屏東縣政府監測田間一期稻已出現葉稻熱病蹤跡，籲請農友密切注意葉稻熱病之發生。部分栽培區如屏東市、萬丹鄉、新園鄉及崁頂鄉已有田區出現輕微稻熱病病徵。稻熱病易發於日夜溫差大、相對濕度高及有晨間露水的環境，且過量施用氮肥、較不通風的水稻田更容易發病。防治水稻葉稻熱病，預防重於治療，因此屏東縣政府籲請農友注意田間稻熱病發生情形，掌握防治時機，並配合肥培管理，勿過量施用氮肥，避免病害嚴重發生。\n",
      "防治時可參考防檢局農藥資訊服務網(https://pesticide.baphiq.gov.tw/)、植物保護資訊系統(https://otserv2.tactri.gov.tw/ppm/)推薦藥劑或於高雄區農業改良場網站(https://www.kdais.gov.tw/ws.php?id=7665page=2)查詢。施用濃度與方式請務必依照推薦方法，以避免藥害發生影響產量與品質。\n",
      "\n",
      "103 桃園市及新竹縣部分鄉鎮區已發生葉稻熱病，為避免病害迅速蔓延，請農友適時防治。桃園區農改場、防檢局及田邊好幫手關心您。\n",
      "依據桃園區農改場研究人員巡迴調查水稻疫情結果，轄內部分地區(桃園市楊梅區及新竹縣新豐鄉、竹北市、芎林鄉、北埔鄉、峨眉鄉等)已發生葉稻熱病，且近期氣候符合發病條件，為避免病害迅速蔓延，請農友適時防治。水稻葉稻熱病為一期稻作之重要病害，發病初期於葉面上形成褐色或暗綠色小斑點；如環境適合，則擴大成紡錘形，而病斑周圍呈黃色，中間赤褐色，內部灰白色；嚴重時葉片枯萎甚至全株枯死。此病害好發於高溫多濕、早晚溫差大之氣候，種植非抗病品種水稻、過度施用氮肥及通風不良稻田尤應注意。因此，本場籲請農友加強水稻葉稻熱病防治工作。\n",
      "一、預警區域：桃園市及新竹縣市各鄉鎮市區水稻栽培區。二、防治注意事項：（1）不可過度施用氮肥，以免稻熱病迅速蔓延。（2）發現稻熱病病斑，應即施藥，如病勢持續蔓延，應再噴施藥劑防治。三、防治藥劑及防治時期：請參考防檢局農藥資訊服務網(https://pesticide.baphiq.gov.tw/)用藥。\n",
      "\n",
      "--------------------------\n",
      "185 斜紋夜蛾密度增加，請農友加強防治措施，避免損失。宜蘭縣動植物防疫所、防檢局及田邊好幫手關心你。\n",
      "斜紋夜蛾密度已達黃燈警戒標準，請農友啟動防治工作，以降低田間害蟲密度。說明：一、依據行政院農業委員會動植物防疫檢疫局制訂植物防疫監測標準作業程序辦理。二、斜紋夜蛾密度調查達預警及警戒區域如下：(一)黃燈警戒區：壯圍鄉美功路一段2巷；宜蘭市七張路460巷；員山鄉深洲一路。(二)藍燈警戒區：壯圍鄉新福七路、蘭陽溪底；宜蘭市雪隧路127巷、雪隧路268巷、員山鄉惠深二路一段。三、農會推廣執行共同防治區域監測密度僅壯圍鄉5月全月及員山鄉5月上、下旬達藍燈預警，其餘皆為綠燈。\n",
      "防治藥劑：詳細請參考植物保護手冊任選一種藥劑防治。http://www.tactri.gov.tw/wSite/ct?xItem=3691ctNode=333mp=11\n",
      "\n",
      "1033 本市斜紋夜蛾疫情升溫，請加強防治。臺中市政府、防檢局及田邊好幫手關心您。\n",
      "依5月份性費洛蒙監測調查，臺中市外埔區、沙鹿區、東勢區及和平區等區域斜紋夜蛾成蟲密度增加，其幼蟲食量大常造成嚴重災情，籲請農民注意，並加強防治工作，避免蟲害蔓延擴散。\n",
      "(1)捕殺幼蟲或摘除卵塊:田間如發現卵塊或幼蟲，應立即捕殺或移出田間。(2)全期懸掛斜紋夜蛾性費洛蒙:誘引斜紋夜蛾雄蛾，減少交尾繁殖後代，並藉以監測田間族群密度，族群密度提升應啟動防治工作。(3)田區翻耕淹水:受害嚴重之綠肥作物應盡速翻耕淹水，避免斜紋夜蛾滋生蔓延。(4)化學藥劑防治:請農友參閱防檢局農藥資訊服務網病蟲害防治(https://pesticide.baphiq.gov.tw/web/Insecticides_MenuItem5_5.aspx)，並請注意安全採收期。\n",
      "\n",
      "--------------------------\n",
      "35 苗栗農改場發佈斜紋夜蛾疫情警報，請農友加強注意防範。\n",
      "一、病蟲害別：斜紋夜盜蟲。二、防治地點、時期：縣市別鄉鎮別防治時期苗栗縣各鄉鎮市栽培區全年進行性費洛蒙共同防治\n",
      "三、防治藥劑及方法：(1)如發現卵塊或初齡幼蟲時，宜及時摘除及銷燬。(2)由於本蟲食物極雜，田間如間作植物等必須同時防治。(3)利用性費洛蒙誘殺雄蛾，以減少雄蛾群棲及減少雌雄交尾機會。(4)種植前或休耕期如發現本蟲幼蟲或蛹之密度高時，可灌水淹蓋全園，以殺死土中之蛹與幼蟲。(5)清除殘株及雜草以減少本蟲之隱蔽場所。(6)藥劑防治依植物保護手冊作物類推薦用藥。農友如果有任何技術上的疑問，可以直接洽詢苗栗區農業改良場諮詢專線037-236583或病蟲害診斷專線037-236619，或各鄉鎮市公所、農會。\n",
      "\n",
      "1033 本市斜紋夜蛾疫情升溫，請加強防治。臺中市政府、防檢局及田邊好幫手關心您。\n",
      "依5月份性費洛蒙監測調查，臺中市外埔區、沙鹿區、東勢區及和平區等區域斜紋夜蛾成蟲密度增加，其幼蟲食量大常造成嚴重災情，籲請農民注意，並加強防治工作，避免蟲害蔓延擴散。\n",
      "(1)捕殺幼蟲或摘除卵塊:田間如發現卵塊或幼蟲，應立即捕殺或移出田間。(2)全期懸掛斜紋夜蛾性費洛蒙:誘引斜紋夜蛾雄蛾，減少交尾繁殖後代，並藉以監測田間族群密度，族群密度提升應啟動防治工作。(3)田區翻耕淹水:受害嚴重之綠肥作物應盡速翻耕淹水，避免斜紋夜蛾滋生蔓延。(4)化學藥劑防治:請農友參閱防檢局農藥資訊服務網病蟲害防治(https://pesticide.baphiq.gov.tw/web/Insecticides_MenuItem5_5.aspx)，並請注意安全採收期。\n",
      "\n",
      "--------------------------\n",
      "66 發布苗栗地區斜紋夜盜蟲害防治警報，請轉知轄區農友注意防範。苗栗區農改場、防檢局及田邊好幫手關心您。\n",
      "一、病蟲害別：斜紋夜盜蟲。二、防治地點、時期：苗栗縣各鄉鎮市栽培區，全年進行性費洛蒙共同防治。\n",
      "(1)如發現卵塊或初齡幼蟲時，宜及時摘除及銷燬。(2)由於本蟲食物極雜，田間如間作植物等必須同時防治。(3)利用性費洛蒙誘殺雄蛾，以減少雄蛾群棲及減少雌雄交尾機會。(4)種植前或休耕期如發現本蟲幼蟲或蛹之密度高時，可灌水淹蓋全園，以殺死土中之蛹與幼蟲。(5)清除殘株及雜草以減少本蟲之隱蔽場所。(6)藥劑防治依植物保護手冊作物類推薦用藥。\n",
      "\n",
      "1033 本市斜紋夜蛾疫情升溫，請加強防治。臺中市政府、防檢局及田邊好幫手關心您。\n",
      "依5月份性費洛蒙監測調查，臺中市外埔區、沙鹿區、東勢區及和平區等區域斜紋夜蛾成蟲密度增加，其幼蟲食量大常造成嚴重災情，籲請農民注意，並加強防治工作，避免蟲害蔓延擴散。\n",
      "(1)捕殺幼蟲或摘除卵塊:田間如發現卵塊或幼蟲，應立即捕殺或移出田間。(2)全期懸掛斜紋夜蛾性費洛蒙:誘引斜紋夜蛾雄蛾，減少交尾繁殖後代，並藉以監測田間族群密度，族群密度提升應啟動防治工作。(3)田區翻耕淹水:受害嚴重之綠肥作物應盡速翻耕淹水，避免斜紋夜蛾滋生蔓延。(4)化學藥劑防治:請農友參閱防檢局農藥資訊服務網病蟲害防治(https://pesticide.baphiq.gov.tw/web/Insecticides_MenuItem5_5.aspx)，並請注意安全採收期。\n",
      "\n",
      "--------------------------\n",
      "897 近期果實蠅密度上升，請農友加強果實蠅防治工作。屏東縣政府、防檢局及田邊好幫手關心您。\n",
      "依據蔬果重要害蟲防疫旬報3月份回報結果，本縣枋寮鄉監測果實蠅超過1000隻，密度持續上升，呼籲農友加強並持續懸掛甲基丁香油進行雄成蟲誘殺等防治工作。\n",
      "因應新生族群將會向外擴散危害，請各鄉鎮農會協助宣導，持續懸掛含毒甲基丁香油誘餌之滅雄技術，壓制果實蠅族群發展，才能發揮防治功效。防治藥劑請參考行政院農業委員會動植物防疫檢疫局農藥資訊服務網，並注意施用藥劑之安全採收期。\n",
      "\n",
      "1037 近期東方果實蠅田間密度增加，籲請農友加強注意防治。臺中市政府、防檢局及田邊好幫手關心您。\n",
      "根據本市8月份果實蠅監測調查，近日本市各區域東方果實蠅密度大幅增加，果實採收所殘餘之果體殘株堆置田間易孳生幼蟲，籲請果農應清除殘果植體，並加強防治工作，避免果實蠅蔓延擴散。\n",
      "(1)清理落果:落果為東方果實蠅重要孳生來源，清理落果與殘體可有效減少蟲口密度。(2)全期懸掛含毒甲基丁香油誘殺器:誘殺東方果實蠅雄蟲，減少交尾繁殖後代，並藉以監測田間族群密度，族群密度提升時應啟動防治工作。(3)果實套袋:幼果期套袋可顯著預防雌蟲產卵造成之落果問題。(4)化學藥劑防治:請農友參閱防檢局農藥資訊服務網病蟲害防治(https://pesticide.baphiq.gov.tw/web/Insecticides_MenuItem5_5.aspx)，並請注意安全採收期。\n",
      "\n",
      "--------------------------\n",
      "898 4月份果實蠅密度持續上升，請農友加強果實蠅防治工作。屏東縣政府、防檢局及田邊好幫手關心您。\n",
      "依據蔬果重要害蟲防疫旬報4月份回報結果，屏東縣枋寮鄉監測果實蠅超過2000隻，密度持續上升，呼籲農友加強防治工作，並持續懸掛甲基丁香油進行雄成蟲誘殺。\n",
      "因應新生族群將會向外擴散危害，請各鄉鎮農會協助宣導農民加強防治工作，將果實套袋、清理果園中落果及懸掛含毒甲基丁香油誘餌，保持田間衛生清潔，才能有效壓制果實蠅族群發展，發揮防治功效。防治藥劑請參考防檢局農藥資訊服務網及植物保護資訊系統，並注意施用藥劑之安全採收期。\n",
      "\n",
      "1037 近期東方果實蠅田間密度增加，籲請農友加強注意防治。臺中市政府、防檢局及田邊好幫手關心您。\n",
      "根據本市8月份果實蠅監測調查，近日本市各區域東方果實蠅密度大幅增加，果實採收所殘餘之果體殘株堆置田間易孳生幼蟲，籲請果農應清除殘果植體，並加強防治工作，避免果實蠅蔓延擴散。\n",
      "(1)清理落果:落果為東方果實蠅重要孳生來源，清理落果與殘體可有效減少蟲口密度。(2)全期懸掛含毒甲基丁香油誘殺器:誘殺東方果實蠅雄蟲，減少交尾繁殖後代，並藉以監測田間族群密度，族群密度提升時應啟動防治工作。(3)果實套袋:幼果期套袋可顯著預防雌蟲產卵造成之落果問題。(4)化學藥劑防治:請農友參閱防檢局農藥資訊服務網病蟲害防治(https://pesticide.baphiq.gov.tw/web/Insecticides_MenuItem5_5.aspx)，並請注意安全採收期。\n",
      "\n",
      "--------------------------\n",
      "961 果實蠅已進入發生高峰期，請果農立即加強防治\n",
      "果實蠅已進入發生高峰期，請果農立即加強防治中華民國九十年五月十八日行政院農業委員會動植物防疫檢疫局表示，目前正值氣溫上升及夏季水果進入熟果期之際，而全國各地果實蠅的發生也已進入高峰期，根據農委會農業試驗所的監測資料，目前該害蟲主要發生的區域包括彰化縣員林鎮、高雄縣田寮鄉、阿蓮鄉、燕巢鄉、屏東縣枋寮地區、佳冬鄉、潮州鎮及台東市等，籲請果農立即採取共同防治措施，以避免果實蠅密度攀升，影響到水果之產量與品質。防檢局表示，果實蠅為我國果樹的重要害蟲，該害蟲生殖力強，雌蟲產卵於果皮下，幼蟲孵化後鑽入果肉中蛀食，引起果實腐爛、落果，由於台灣氣候適合果實蠅生長，且其賴以繁衍的果實幾乎整年均有栽植，因此全年均可發生，據估計若不予適當防治，所造成的各種水果平均受害率可達十至三十％。因此為有效抑制果實蠅之發生，必須在六至九月間的水果盛產期果實蠅發生密度最高時加強防治，該局籲請果農配合果實蠅共同防治措施，在田間懸掛果實蠅誘殺板，並確實清除落果及做好田間衛生。防檢局指出，果實蠅成蟲具飛行遷移習性，會隨著不同水果的產期四處蔓延危害，因此必須請全國各地的果農聯合起來，共同防治果實蠅，才能有效減輕其危害，確實保護我國水果的生產。而為聯合各縣市政府推動大面積果實蠅共同防治工作，防檢局每年均成立專案計劃來推動，且為有效掌握疫情，該局亦委託國內農業試驗研究單位，隨時監測害蠅之發生情形，每旬均發布一次全國各地果實蠅疫情資料給各相關農會，以利其指導果農適時採行防治措施。防檢局表示，果實蠅共同防治主要是利用含毒甲基丁香油誘殺板，吸引雄蟲前來舐食而中毒死亡，造成雄蟲數量減少，使其雌蟲因不易找到交配對象，而無法順利繁殖後代，以達到降低果實蠅密度的目的。該局並已補助各縣市政府誘殺板，且透過各鄉鎮農會轉發放給農民使用，請農民能儘速領取、使用。同時，為確保防治效果，還必須同時做好田間衛生，清除田間的落果和受害果等工作，以避免被害果內的果實蠅羽化鑽出為害，真正達到減少果實蠅危害的目的。聯絡人：高清文組長電話：○二-二三四三一四七一傳真：○二-二三四三一四七三\n",
      "\n",
      "\n",
      "1037 近期東方果實蠅田間密度增加，籲請農友加強注意防治。臺中市政府、防檢局及田邊好幫手關心您。\n",
      "根據本市8月份果實蠅監測調查，近日本市各區域東方果實蠅密度大幅增加，果實採收所殘餘之果體殘株堆置田間易孳生幼蟲，籲請果農應清除殘果植體，並加強防治工作，避免果實蠅蔓延擴散。\n",
      "(1)清理落果:落果為東方果實蠅重要孳生來源，清理落果與殘體可有效減少蟲口密度。(2)全期懸掛含毒甲基丁香油誘殺器:誘殺東方果實蠅雄蟲，減少交尾繁殖後代，並藉以監測田間族群密度，族群密度提升時應啟動防治工作。(3)果實套袋:幼果期套袋可顯著預防雌蟲產卵造成之落果問題。(4)化學藥劑防治:請農友參閱防檢局農藥資訊服務網病蟲害防治(https://pesticide.baphiq.gov.tw/web/Insecticides_MenuItem5_5.aspx)，並請注意安全採收期。\n",
      "\n",
      "--------------------------\n",
      "185 斜紋夜蛾密度增加，請農友加強防治措施，避免損失。宜蘭縣動植物防疫所、防檢局及田邊好幫手關心你。\n",
      "斜紋夜蛾密度已達黃燈警戒標準，請農友啟動防治工作，以降低田間害蟲密度。說明：一、依據行政院農業委員會動植物防疫檢疫局制訂植物防疫監測標準作業程序辦理。二、斜紋夜蛾密度調查達預警及警戒區域如下：(一)黃燈警戒區：壯圍鄉美功路一段2巷；宜蘭市七張路460巷；員山鄉深洲一路。(二)藍燈警戒區：壯圍鄉新福七路、蘭陽溪底；宜蘭市雪隧路127巷、雪隧路268巷、員山鄉惠深二路一段。三、農會推廣執行共同防治區域監測密度僅壯圍鄉5月全月及員山鄉5月上、下旬達藍燈預警，其餘皆為綠燈。\n",
      "防治藥劑：詳細請參考植物保護手冊任選一種藥劑防治。http://www.tactri.gov.tw/wSite/ct?xItem=3691ctNode=333mp=11\n",
      "\n",
      "1039 臺中市斜紋夜蛾疫情升溫，請農友加強防治。臺中市政府、防檢局及田邊好幫手關心您。\n",
      "根據臺中市4月份性費洛蒙監測調查結果，本市大甲區、大安區、外埔區、新社區及和平區等區域斜紋夜蛾成蟲密度增加，其幼蟲食量大常造成嚴重災情，籲請農民注意，並加強防治工作，避免蟲害蔓延擴散。\n",
      "(1)捕殺幼蟲或摘除卵塊:田間如發現卵塊或幼蟲，應立即捕殺或移出田間。(2)全期懸掛斜紋夜蛾性費洛蒙:誘引斜紋夜蛾雄蛾，減少交尾繁殖後代，並藉以監測田間族群密度，族群密度提升時應啟動防治工作。(3)田區翻耕:受害嚴重之綠肥作物應盡速翻耕，避免斜紋夜蛾滋生蔓延。(4)化學藥劑防治:請農友參閱防檢局農藥資訊服務網病蟲害防治(https://pesticide.baphiq.gov.tw/web/Insecticides_MenuItem5_5.aspx)，並請注意安全採收期。\n",
      "\n",
      "--------------------------\n"
     ]
    }
   ],
   "source": [
    "for Test,Ref in bads[:10]:\n",
    "    txt = open(t_dir+'/'+Test+'.txt', \"r\",encoding=\"utf-8\")\n",
    "    content = txt.read()\n",
    "    print(Test,content)\n",
    "    txt = open(t_dir+'/'+Ref+'.txt', \"r\",encoding=\"utf-8\")\n",
    "    content = txt.read()\n",
    "    print(Ref,content)\n",
    "    print(\"--------------------------\")"
   ]
  },
  {
   "cell_type": "code",
   "execution_count": 874,
   "id": "5bbfba5a",
   "metadata": {},
   "outputs": [
    {
     "name": "stdout",
     "output_type": "stream",
     "text": [
      "1915\n"
     ]
    }
   ],
   "source": [
    "import csv\n",
    "if(True):\n",
    "    print(len(out))\n",
    "    with open('val_super_simple_public_s1.csv', 'w', newline='') as csvfile:\n",
    "        spamwriter = csv.writer(csvfile, delimiter=',',\n",
    "                                quotechar='|', quoting=csv.QUOTE_MINIMAL)\n",
    "        spamwriter.writerow([\"Test\"]+[\"Reference\"])\n",
    "        for row in out:  \n",
    "            spamwriter.writerow(row)\n"
   ]
  },
  {
   "cell_type": "code",
   "execution_count": 857,
   "id": "ff6c8305",
   "metadata": {},
   "outputs": [
    {
     "ename": "FileNotFoundError",
     "evalue": "[Errno 2] No such file or directory: 'dataPrivateComplete\\\\dataPrivateComplete/780.txt'",
     "output_type": "error",
     "traceback": [
      "\u001b[1;31m---------------------------------------------------------------------------\u001b[0m",
      "\u001b[1;31mFileNotFoundError\u001b[0m                         Traceback (most recent call last)",
      "\u001b[1;32m~\\AppData\\Local\\Temp/ipykernel_11672/2113110161.py\u001b[0m in \u001b[0;36m<module>\u001b[1;34m\u001b[0m\n\u001b[0;32m      3\u001b[0m     \u001b[1;32mif\u001b[0m\u001b[1;33m(\u001b[0m\u001b[0mpl\u001b[0m \u001b[1;32mnot\u001b[0m \u001b[1;32min\u001b[0m \u001b[0mout\u001b[0m\u001b[1;33m)\u001b[0m\u001b[1;33m:\u001b[0m\u001b[0mfalse_negs\u001b[0m\u001b[1;33m.\u001b[0m\u001b[0mappend\u001b[0m\u001b[1;33m(\u001b[0m\u001b[0mpl\u001b[0m\u001b[1;33m)\u001b[0m\u001b[1;33m\u001b[0m\u001b[1;33m\u001b[0m\u001b[0m\n\u001b[0;32m      4\u001b[0m \u001b[1;32mfor\u001b[0m \u001b[0mTest\u001b[0m\u001b[1;33m,\u001b[0m\u001b[0mRef\u001b[0m \u001b[1;32min\u001b[0m \u001b[0mfalse_negs\u001b[0m\u001b[1;33m[\u001b[0m\u001b[1;33m:\u001b[0m\u001b[1;36m10\u001b[0m\u001b[1;33m]\u001b[0m\u001b[1;33m:\u001b[0m\u001b[1;33m\u001b[0m\u001b[1;33m\u001b[0m\u001b[0m\n\u001b[1;32m----> 5\u001b[1;33m     \u001b[0mtxt\u001b[0m \u001b[1;33m=\u001b[0m \u001b[0mopen\u001b[0m\u001b[1;33m(\u001b[0m\u001b[0mt_dir\u001b[0m\u001b[1;33m+\u001b[0m\u001b[1;34m'/'\u001b[0m\u001b[1;33m+\u001b[0m\u001b[0mTest\u001b[0m\u001b[1;33m+\u001b[0m\u001b[1;34m'.txt'\u001b[0m\u001b[1;33m,\u001b[0m \u001b[1;34m\"r\"\u001b[0m\u001b[1;33m,\u001b[0m\u001b[0mencoding\u001b[0m\u001b[1;33m=\u001b[0m\u001b[1;34m\"utf-8\"\u001b[0m\u001b[1;33m)\u001b[0m\u001b[1;33m\u001b[0m\u001b[1;33m\u001b[0m\u001b[0m\n\u001b[0m\u001b[0;32m      6\u001b[0m     \u001b[0mcontent\u001b[0m \u001b[1;33m=\u001b[0m \u001b[0mtxt\u001b[0m\u001b[1;33m.\u001b[0m\u001b[0mread\u001b[0m\u001b[1;33m(\u001b[0m\u001b[1;33m)\u001b[0m\u001b[1;33m\u001b[0m\u001b[1;33m\u001b[0m\u001b[0m\n\u001b[0;32m      7\u001b[0m     \u001b[0mseg_list\u001b[0m \u001b[1;33m=\u001b[0m \u001b[0mjieba\u001b[0m\u001b[1;33m.\u001b[0m\u001b[0mcut\u001b[0m\u001b[1;33m(\u001b[0m\u001b[0mcontent\u001b[0m\u001b[1;33m,\u001b[0m \u001b[0mcut_all\u001b[0m\u001b[1;33m=\u001b[0m\u001b[1;32mTrue\u001b[0m\u001b[1;33m)\u001b[0m\u001b[1;33m\u001b[0m\u001b[1;33m\u001b[0m\u001b[0m\n",
      "\u001b[1;31mFileNotFoundError\u001b[0m: [Errno 2] No such file or directory: 'dataPrivateComplete\\\\dataPrivateComplete/780.txt'"
     ]
    }
   ],
   "source": [
    "false_negs = []\n",
    "for pl in pos_labels:\n",
    "    if(pl not in out):false_negs.append(pl)\n",
    "for Test,Ref in false_negs[:10]:\n",
    "    txt = open(t_dir+'/'+Test+'.txt', \"r\",encoding=\"utf-8\")\n",
    "    content = txt.read()\n",
    "    seg_list = jieba.cut(content, cut_all=True)\n",
    "    keywrds = []\n",
    "    for seg in seg_list:\n",
    "        if(seg in vector_dict):keywrds.append(seg)\n",
    "    print(keywrds)\n",
    "    txt = open(t_dir+'/'+Ref+'.txt', \"r\",encoding=\"utf-8\")\n",
    "    content = txt.read()\n",
    "    seg_list = jieba.cut(content, cut_all=True)\n",
    "    keywrds = []\n",
    "    for seg in seg_list:\n",
    "        if(seg in vector_dict):keywrds.append(seg)\n",
    "    print(keywrds)\n",
    "    print(\"--------\")"
   ]
  },
  {
   "cell_type": "code",
   "execution_count": 844,
   "id": "44ad14bc",
   "metadata": {},
   "outputs": [
    {
     "data": {
      "text/plain": [
       "0.5845331616451631"
      ]
     },
     "execution_count": 844,
     "metadata": {},
     "output_type": "execute_result"
    }
   ],
   "source": []
  },
  {
   "cell_type": "code",
   "execution_count": null,
   "id": "89b3bd81",
   "metadata": {},
   "outputs": [],
   "source": []
  },
  {
   "cell_type": "code",
   "execution_count": null,
   "id": "e36b95fa",
   "metadata": {},
   "outputs": [],
   "source": []
  }
 ],
 "metadata": {
  "kernelspec": {
   "display_name": "Python 3 (ipykernel)",
   "language": "python",
   "name": "python3"
  },
  "language_info": {
   "codemirror_mode": {
    "name": "ipython",
    "version": 3
   },
   "file_extension": ".py",
   "mimetype": "text/x-python",
   "name": "python",
   "nbconvert_exporter": "python",
   "pygments_lexer": "ipython3",
   "version": "3.8.11"
  }
 },
 "nbformat": 4,
 "nbformat_minor": 5
}
