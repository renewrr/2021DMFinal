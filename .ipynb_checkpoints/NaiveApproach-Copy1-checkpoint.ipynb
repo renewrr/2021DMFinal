{
 "cells": [
  {
   "cell_type": "code",
   "execution_count": 1,
   "id": "13d506f9",
   "metadata": {},
   "outputs": [],
   "source": [
    "import jieba\n",
    "import numpy as np\n",
    "import os, glob, time, copy, random, zipfile\n",
    "import matplotlib.pyplot as plt\n",
    "from PIL import Image\n",
    "from sklearn.model_selection import train_test_split\n",
    "from tqdm.notebook import tqdm\n",
    "\n",
    "import torch\n",
    "import torch.nn as nn\n",
    "import torch.optim as optim\n",
    "import torch.utils.data as data\n",
    "import torch.nn.functional as F\n",
    "import torchvision\n",
    "from torchvision import models, transforms"
   ]
  },
  {
   "cell_type": "code",
   "execution_count": 2,
   "id": "be825aef",
   "metadata": {},
   "outputs": [],
   "source": [
    "from os import listdir\n",
    "from os.path import isfile, join,splitext\n",
    "t_dir = 'dataTrainComplete'\n",
    "txt_fnames = [splitext(f)[0] for f in listdir(t_dir) if isfile(join(t_dir, f))] #Article filenames"
   ]
  },
  {
   "cell_type": "code",
   "execution_count": 3,
   "id": "2485dec7",
   "metadata": {},
   "outputs": [],
   "source": [
    "crop_list = open('Keywords/02crop.list.csv', \"r\",encoding='UTF-8-sig')\n",
    "crop = crop_list.read()\n",
    "crop_line_sep = crop.splitlines()\n",
    "\n",
    "pest_list = open('Keywords/02pest.list.csv', \"r\",encoding='UTF-8-sig')\n",
    "pest = pest_list.read()\n",
    "pest_line_sep = pest.splitlines()\n",
    "\n",
    "chem_list = open('Keywords/02chem.list.csv', \"r\",encoding='UTF-8-sig')\n",
    "chem = chem_list.read()\n",
    "chem_line_sep = chem.splitlines()\n",
    "#Keywords split by lines, keyword with more than one entry will be on the same line"
   ]
  },
  {
   "cell_type": "code",
   "execution_count": 4,
   "id": "f188a20d",
   "metadata": {},
   "outputs": [
    {
     "name": "stderr",
     "output_type": "stream",
     "text": [
      "Building prefix dict from the default dictionary ...\n",
      "Loading model from cache C:\\Users\\Renewrr\\AppData\\Local\\Temp\\jieba.cache\n",
      "Loading model cost 0.656 seconds.\n",
      "Prefix dict has been built successfully.\n"
     ]
    }
   ],
   "source": [
    "from itertools import chain\n",
    "import csv\n",
    "vector_dict = {}\n",
    "#Keyword lookup with keyword as key and vector index as value\n",
    "for idx,line in enumerate(chain(crop_line_sep,pest_line_sep,chem_line_sep)):\n",
    "    l = line.split(',')\n",
    "    for word in l:\n",
    "        #Some line will have more than one entry, which should have the same vector index\n",
    "        if(word == ''):continue\n",
    "        jieba.add_word(word)#Each keyword is added to jieba\n",
    "        vector_dict[word] = idx"
   ]
  },
  {
   "cell_type": "code",
   "execution_count": 26,
   "id": "75ad850d",
   "metadata": {},
   "outputs": [],
   "source": [
    "vectors = {}\n",
    "#Vector table with filename as key and vector as value\n",
    "for fname in txt_fnames:\n",
    "    txt = open(t_dir+'/'+fname+'.txt', \"r\",encoding=\"utf-8\")\n",
    "    content = txt.read()\n",
    "    seg_list = jieba.cut(content, cut_all=True)\n",
    "    vectors[fname] = [False]*764\n",
    "    #Initialize an 0 vector for each file\n",
    "    for seg in seg_list:\n",
    "        if(seg in vector_dict):\n",
    "            vectors[fname][vector_dict[seg]] = True\n",
    "            #Count keyword appearence - Bag of words\n",
    "for key in vectors:\n",
    "    v = vectors[key]\n",
    "    curr = 0\n",
    "    for b in v:\n",
    "        if(b):curr = (curr << 1) + 1\n",
    "        else:curr = curr << 1\n",
    "    vectors[key] = curr"
   ]
  },
  {
   "cell_type": "code",
   "execution_count": 75,
   "id": "f4e04946",
   "metadata": {},
   "outputs": [],
   "source": [
    "out = []\n",
    "for Ref in txt_fnames:\n",
    "    for Test in txt_fnames:\n",
    "        if(Ref == Test):continue\n",
    "        if((vectors[Test] ^ (vectors[Test] & vectors[Ref]))== 0 and vectors[Test] > 0 and vectors[Ref] > 0):\n",
    "            out.append((Test,Ref))"
   ]
  },
  {
   "cell_type": "code",
   "execution_count": 76,
   "id": "9c18b0f1",
   "metadata": {},
   "outputs": [],
   "source": [
    "corr_list = open('TrainLabel.csv', \"r\",encoding='UTF-8-sig')\n",
    "corr = corr_list.read()\n",
    "corr_line_sep = corr.splitlines()\n",
    "pos_labels = set() #faster lookup to filter out positive pairs, not used elsewhere\n",
    "#All the associated article pairs given by train label\n",
    "for line in corr_line_sep[1:]:\n",
    "    l = line.split(',')\n",
    "    pos_pair_list.append((l[0],l[1]))\n",
    "    pos_labels.add((l[0],l[1]))"
   ]
  },
  {
   "cell_type": "code",
   "execution_count": 77,
   "id": "4f102315",
   "metadata": {},
   "outputs": [
    {
     "name": "stdout",
     "output_type": "stream",
     "text": [
      "998 2211 1383\n"
     ]
    }
   ],
   "source": [
    "count = 0\n",
    "for o in out:\n",
    "    if(o in pos_labels):count+=1\n",
    "print(count,len(out),len(pos_labels))"
   ]
  },
  {
   "cell_type": "code",
   "execution_count": null,
   "id": "99743ffa",
   "metadata": {},
   "outputs": [],
   "source": []
  }
 ],
 "metadata": {
  "kernelspec": {
   "display_name": "Python 3 (ipykernel)",
   "language": "python",
   "name": "python3"
  },
  "language_info": {
   "codemirror_mode": {
    "name": "ipython",
    "version": 3
   },
   "file_extension": ".py",
   "mimetype": "text/x-python",
   "name": "python",
   "nbconvert_exporter": "python",
   "pygments_lexer": "ipython3",
   "version": "3.8.11"
  }
 },
 "nbformat": 4,
 "nbformat_minor": 5
}
