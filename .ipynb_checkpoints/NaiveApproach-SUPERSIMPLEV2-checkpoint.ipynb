{
 "cells": [
  {
   "cell_type": "code",
   "execution_count": 2,
   "id": "13d506f9",
   "metadata": {},
   "outputs": [],
   "source": [
    "import jieba\n",
    "import numpy as np\n",
    "import os, glob, time, copy, random, zipfile\n",
    "import matplotlib.pyplot as plt\n",
    "from PIL import Image\n",
    "from sklearn.model_selection import train_test_split\n",
    "from tqdm.notebook import tqdm\n",
    "\n",
    "import torch\n",
    "import torch.nn as nn\n",
    "import torch.optim as optim\n",
    "import torch.utils.data as data\n",
    "import torch.nn.functional as F\n",
    "import torchvision\n",
    "from torchvision import models, transforms"
   ]
  },
  {
   "cell_type": "code",
   "execution_count": 3,
   "id": "be825aef",
   "metadata": {},
   "outputs": [],
   "source": [
    "from os import listdir\n",
    "from os.path import isfile, join,splitext\n",
    "t_dir = 'dataTrainComplete'\n",
    "txt_fnames = [splitext(f)[0] for f in listdir(t_dir) if isfile(join(t_dir, f))] #Article filenames"
   ]
  },
  {
   "cell_type": "code",
   "execution_count": 6,
   "id": "2485dec7",
   "metadata": {},
   "outputs": [
    {
     "name": "stdout",
     "output_type": "stream",
     "text": [
      "188\n",
      "207\n",
      "369\n",
      "216 282 864\n"
     ]
    }
   ],
   "source": [
    "vector_dict = [{},{},{}]\n",
    "crop_list = open('Keywords/02crop.list.csv', \"r\",encoding='UTF-8-sig')\n",
    "crop = crop_list.read()\n",
    "crop_line_sep = crop.splitlines()\n",
    "print(len(crop_line_sep))\n",
    "for idx,line in enumerate(crop_line_sep):\n",
    "    l = line.split(',')\n",
    "    for word in l:\n",
    "        if(word == ''):continue\n",
    "        jieba.add_word(word)\n",
    "        vector_dict[0][word] = idx\n",
    "pest_list = open('Keywords/02pest.list.csv', \"r\",encoding='UTF-8-sig')\n",
    "pest = pest_list.read()\n",
    "pest_line_sep = pest.splitlines()\n",
    "print(len(pest_line_sep))\n",
    "for idx,line in enumerate(pest_line_sep):\n",
    "    l = line.split(',')\n",
    "    for word in l:\n",
    "        if(word == ''):continue\n",
    "        jieba.add_word(word)\n",
    "        vector_dict[1][word] = idx\n",
    "\n",
    "chem_list = open('Keywords/02chem.list.csv', \"r\",encoding='UTF-8-sig')\n",
    "chem = chem_list.read()\n",
    "chem_line_sep = chem.splitlines()\n",
    "print(len(chem_line_sep))\n",
    "for idx,line in enumerate(chem_line_sep):\n",
    "    l = line.split(',')\n",
    "    for word in l:\n",
    "        if(word == ''):continue\n",
    "        jieba.add_word(word)\n",
    "        vector_dict[2][word] = idx\n",
    "#Keywords split by lines, keyword with more than one entry will be on the same line\n",
    "print(len(vector_dict[0]),len(vector_dict[1]),len(vector_dict[2]))"
   ]
  },
  {
   "cell_type": "code",
   "execution_count": 10,
   "id": "75ad850d",
   "metadata": {},
   "outputs": [
    {
     "name": "stdout",
     "output_type": "stream",
     "text": [
      "[98079714615416886934934209737619787751599303819750539264, 51338600619007276755004625409535357651227760593150672896, 0]\n"
     ]
    }
   ],
   "source": [
    "vectors = {}\n",
    "#Vector table with filename as key and vector as value\n",
    "for fname in txt_fnames:\n",
    "    txt = open(t_dir+'/'+fname+'.txt', \"r\",encoding=\"utf-8\")\n",
    "    content = txt.read()\n",
    "    seg_list = jieba.cut(content, cut_all=True)\n",
    "    vectors[fname] = [[False]*188,[False]*207,[False]*369]\n",
    "    #Initialize an 0 vector for each file\n",
    "    for seg in seg_list:\n",
    "        if(seg in vector_dict[0]):\n",
    "            vectors[fname][0][vector_dict[0][seg]] = True\n",
    "        if(seg in vector_dict[1]):\n",
    "            vectors[fname][1][vector_dict[1][seg]] = True\n",
    "        if(seg in vector_dict[2]):\n",
    "            vectors[fname][2][vector_dict[2][seg]] = True\n",
    "            #Count keyword appearence - Bag of words\n",
    "\n",
    "for key in vectors:\n",
    "    v = vectors[key]\n",
    "    for i in range(3):\n",
    "        curr = 0\n",
    "        for b in v[i]:\n",
    "            if(b):curr = (curr << 1) + 1\n",
    "            else:curr = curr << 1\n",
    "        vectors[key][i] = curr"
   ]
  },
  {
   "cell_type": "code",
   "execution_count": 45,
   "id": "77381628",
   "metadata": {},
   "outputs": [],
   "source": [
    "def countSetBits(n):\n",
    "    count = 0\n",
    "    while (n):\n",
    "        n &= (n-1)\n",
    "        count+= 1\n",
    "    return count"
   ]
  },
  {
   "cell_type": "code",
   "execution_count": 114,
   "id": "f4e04946",
   "metadata": {},
   "outputs": [],
   "source": [
    "out = []\n",
    "for Ref in txt_fnames:\n",
    "    for Test in txt_fnames:\n",
    "        if(Ref == Test):continue\n",
    "        if((vectors[Test][0] == 0 and vectors[Test][1] == 0) or (vectors[Ref][0] == 0 and vectors[Ref][1] == 0)):continue\n",
    "        if(vectors[Test][0] ^ (vectors[Test][0] & vectors[Ref][0]) == 0 and vectors[Test][1] ^ (vectors[Test][1] & vectors[Ref][1]) == 0 and vectors[Test][2] ^ (vectors[Test][2] & vectors[Ref][2]) == 0):\n",
    "            out.append((Test,Ref))"
   ]
  },
  {
   "cell_type": "code",
   "execution_count": 115,
   "id": "9c18b0f1",
   "metadata": {},
   "outputs": [],
   "source": [
    "corr_list = open('TrainLabel.csv', \"r\",encoding='UTF-8-sig')\n",
    "corr = corr_list.read()\n",
    "corr_line_sep = corr.splitlines()\n",
    "pos_labels = set() #faster lookup to filter out positive pairs, not used elsewhere\n",
    "#All the associated article pairs given by train label\n",
    "for line in corr_line_sep[1:]:\n",
    "    l = line.split(',')\n",
    "    pos_labels.add((l[0],l[1]))"
   ]
  },
  {
   "cell_type": "code",
   "execution_count": 116,
   "id": "4f102315",
   "metadata": {},
   "outputs": [
    {
     "name": "stdout",
     "output_type": "stream",
     "text": [
      "996 2205 1383\n"
     ]
    }
   ],
   "source": [
    "count = 0\n",
    "for o in out:\n",
    "    if(o in pos_labels):count+=1\n",
    "print(count,len(out),len(pos_labels))"
   ]
  },
  {
   "cell_type": "code",
   "execution_count": 119,
   "id": "99743ffa",
   "metadata": {},
   "outputs": [
    {
     "name": "stdout",
     "output_type": "stream",
     "text": [
      "2205\n"
     ]
    }
   ],
   "source": [
    "import csv\n",
    "from natsort import natsorted\n",
    "print(len(out))\n",
    "out = natsorted(out,key = lambda x:x[0])\n",
    "with open('val_super_simple_TEST.csv', 'w', newline='') as csvfile:\n",
    "    spamwriter = csv.writer(csvfile, delimiter=',',\n",
    "                            quotechar='|', quoting=csv.QUOTE_MINIMAL)\n",
    "    spamwriter.writerow([\"Test\"]+[\"Reference\"])\n",
    "    for row in out:  \n",
    "        spamwriter.writerow(row)"
   ]
  },
  {
   "cell_type": "code",
   "execution_count": 135,
   "id": "8ea3a9c9",
   "metadata": {},
   "outputs": [
    {
     "name": "stdout",
     "output_type": "stream",
     "text": [
      "夜蛾拉警報，白粉等著來，臺南區農改場籲請加強防治。臺南區農改場、防檢局及田邊好幫手關心您。\n",
      "目前氣候乾燥及正值季節轉換期間，田間夜蛾類害蟲密度逐漸上升，尤以落花生田區發生嚴重。同時天氣漸轉冷涼，早晚溫差變大，白粉病發生機率提高，為確保作物正常生長及良好收成，臺南區農業改良場籲請農友注意夜蛾類害蟲及白粉病防治。常見危害夜蛾有斜紋夜蛾及甜菜夜蛾，兩者幼蟲皆晝伏夜出，雜食性，可危害作物如葉菜類、茼蒿、落花生、田菁、毛豆、豌豆、大蒜、青蔥、甘藷、玉米、蓮花及花卉等數十種作物。幼蟲食量極大，會大量啃食植株心梢及葉片，阻礙作物的正常生長，影響產量及品質，嚴重時常導致全園廢耕。白粉病是常見的作物葉部病害，感染初期通常由下位葉開始發生，葉表面出現白至淺灰之圓形小病斑，擴大癒合後即好似一層糖霜覆蓋整個葉面，影響光合作用，若遇久旱不雨的天氣，嚴重時葉片黃化，提早落葉。於春、秋兩季較乾燥及光線不足的環境下危害劇烈，由於白粉病亦會感染葉柄、嫩蔓等部位，如病害繼續進行，最終作物全株表面皆覆滿白色粉狀物而呈青白色。\n",
      "夜蛾類害蟲防治上應注意下列事項：(1)田間如發現夜蛾類害蟲卵塊、幼蟲，應立即捕殺或摘除(2)幼蟲及成蟲大多於太陽下山或傍晚時分開始活動，傍晚噴藥效果較佳，噴灑時應注意使用充足水量(3)參考植物保護手冊推薦用藥，選擇藥劑交互使用，以避免害蟲產生抗藥性(4)利用性費洛蒙長期誘殺雄蛾，以降低其田間密度。每公頃設5~10個點，放置高度約為離地150公分或作物生長點上方30~60公分，每月更新誘餌一次。作物種植密集地區應採共同防治，成效更佳(5)注意清園之工作，間作之作物應同時施藥，徹底清除蟲源(6)旱田作物於種植前整地翻犁後浸水一天以上，可將土中的蛹或幼蟲淹死(7)收穫前注意化學藥劑的使用，或改用蘇力菌防治，注意安全採收期，以免造成農藥殘留過量之問題(8)受害嚴重之綠肥作物或廢耕田區應儘速翻犁淹水，避免夜蛾類滋生蔓延。白粉病防治法如下：(1)保持良好通風狀況，避免莖葉過於茂密。(2)發病初期可施用葵無露或窄域油。(3)參考作物登記藥劑，由於白粉病病原菌易產生抗藥性，因此應選擇多種藥劑，輪流施用，以避免抗藥性產生，並遵守安全採收期。白粉病葉面葉背都會發生，因此防治時應注意均勻噴施藥劑於葉片兩面。藥劑防治請參考植物保護手冊登記藥劑，可於本場網站連結各項作物的相關用藥資料：http://www.tndais.gov.tw/view.php?catid=382點選所種植的作物選用登記藥劑，用藥時應依標示使用，並嚴格遵守安全採收期。若有防治上的問題可與臺南區農業改良場研究人員聯絡。（聯絡人：陳盈丞、蔡孟旅，06-5912901轉302、306）\n",
      "\n",
      "夜蛾類\n",
      "蛾類\n",
      "落花生\n",
      "花生\n",
      "白粉病\n",
      "夜蛾類\n",
      "蛾類\n",
      "白粉病\n",
      "斜紋夜蛾\n",
      "甜菜夜蛾\n",
      "葉菜類\n",
      "茼蒿\n",
      "落花生\n",
      "花生\n",
      "田菁\n",
      "毛豆\n",
      "豌豆\n",
      "大蒜\n",
      "青蔥\n",
      "甘藷\n",
      "玉米\n",
      "蓮花\n",
      "花卉\n",
      "白粉病\n",
      "白粉病\n",
      "夜蛾類\n",
      "蛾類\n",
      "夜蛾類\n",
      "蛾類\n",
      "綠肥作物\n",
      "夜蛾類\n",
      "蛾類\n",
      "白粉病\n",
      "白粉病\n",
      "白粉病\n",
      "----\n",
      "夏季為斜紋夜盜及甜菜夜蛾發生盛期，請加強注意，及時防治避免損失。\n",
      "夏日乾燥炎熱的氣候，正是許多農作物害蟲好發的時機，花蓮區農業改良場籲請農民注意斜紋夜盜及甜菜夜蛾的防治，以免造成作物損失。隨著氣溫增高，許多農作物害蟲也隨之變得活躍，由監測數據顯示宜蘭地區開始出現夜蛾類害蟲的高峰，其中包括斜紋夜蛾和甜菜夜蛾。斜紋夜蛾一般人稱「黑肚蟲」，其食性幾乎是見綠就吃，是種植蔬菜的農友最傷腦筋的害蟲之一。另外青蔥產區除了斜紋夜蛾之外，還有甜菜夜蛾危害，孵化的幼蟲藏匿於蔥管內啃食青蔥，而炎熱的天氣更加速這兩種害蟲繁衍，為了減輕其所造成的嚴重經濟損失，行政院農業委員會花蓮區農業改良場呼籲花蓮宜蘭地區的農友持續進行防治工作，切勿輕忽大意。\n",
      "1.大量誘殺雄蟲：懸掛性費洛蒙誘蟲盒於園區外圍，藉由大量誘殺雄蟲，降低雌蟲的交尾機率，可使族群密度受到壓抑。懸掛距離為20-50公尺，大面積共同懸掛效果更佳。2.摘除卵塊：若發現葉背有毛狀卵塊，則摘除葉片，此動作可瞬間清除300-500顆即將孵化的卵粒。3.蘇力菌防治幼蟲：輪流噴施不同廠牌的蘇力菌降低幼蟲密度，蘇力菌可有效殺死初齡的夜蛾幼蟲，亦為對環境安全的微生物製劑，對人體無害。另一方面，蘇力菌也能與殺蟲農藥混合施用，可省工並降低抗藥性的發生。4.合理使用農藥：防治夜蛾的藥劑很多，應參考植物保護手冊推薦藥劑，輪流施用兩種以上藥劑避免抗藥性產生，同時應遵守安全採收期及施用倍數等使用方法，避免造成農藥殘留。\n",
      "\n",
      "甜菜夜蛾\n",
      "甜菜夜蛾\n",
      "夜蛾類\n",
      "蛾類\n",
      "斜紋夜蛾\n",
      "甜菜夜蛾\n",
      "斜紋夜蛾\n",
      "黑肚蟲\n",
      "蔬菜\n",
      "青蔥\n",
      "斜紋夜蛾\n",
      "甜菜夜蛾\n",
      "蔥\n",
      "青蔥\n"
     ]
    }
   ],
   "source": [
    "Ref = '415'\n",
    "Test = '3'\n",
    "#print(countSetBits(vectors[Test][0] ^ (vectors[Test][0] & vectors[Ref][0])),\n",
    "#countSetBits(vectors[Test][1] ^ (vectors[Test][1] & vectors[Ref][1])),\n",
    "#countSetBits(vectors[Test][2] ^ (vectors[Test][2] & vectors[Ref][2])))\n",
    "txt = open(t_dir+'/'+Ref+'.txt', \"r\",encoding=\"utf-8\")\n",
    "content = txt.read()\n",
    "print(content)\n",
    "seg_list = jieba.cut(content, cut_all=True)\n",
    "for seg in seg_list:\n",
    "    if(seg in vector_dict[0] or seg in vector_dict[1]):print(seg)\n",
    "print(\"----\")\n",
    "txt = open(t_dir+'/'+Test+'.txt', \"r\",encoding=\"utf-8\")\n",
    "content = txt.read()\n",
    "print(content)\n",
    "seg_list = jieba.cut(content, cut_all=True)\n",
    "for seg in seg_list:\n",
    "    if(seg in vector_dict[0] or seg in vector_dict[1]):print(seg)"
   ]
  },
  {
   "cell_type": "code",
   "execution_count": 140,
   "id": "3d644b4c",
   "metadata": {},
   "outputs": [
    {
     "name": "stdout",
     "output_type": "stream",
     "text": [
      "1011\n",
      "108\n",
      "1082\n",
      "1170\n",
      "1172\n",
      "1178\n",
      "1180\n",
      "185\n",
      "442\n",
      "75\n",
      "809\n",
      "819\n",
      "878\n",
      "887\n",
      "969\n",
      "-\n",
      "1170\n",
      "1178\n",
      "1187\n",
      "1261\n",
      "1271\n",
      "1301\n",
      "1304\n",
      "1341\n",
      "179\n",
      "636\n",
      "661\n",
      "684\n",
      "709\n",
      "733\n",
      "783\n",
      "841\n",
      "887\n",
      "969\n"
     ]
    }
   ],
   "source": [
    "for Ref in vectors:\n",
    "    for Test in vectors:\n",
    "        if(Ref == Test):continue\n",
    "        if(vectors[Ref][0] == 0 or vectors[Test][0] == 0):continue\n",
    "        if(vectors[Ref][0] & vectors[Test][0])"
   ]
  },
  {
   "cell_type": "code",
   "execution_count": null,
   "id": "bd920a96",
   "metadata": {},
   "outputs": [],
   "source": []
  }
 ],
 "metadata": {
  "kernelspec": {
   "display_name": "Python 3 (ipykernel)",
   "language": "python",
   "name": "python3"
  },
  "language_info": {
   "codemirror_mode": {
    "name": "ipython",
    "version": 3
   },
   "file_extension": ".py",
   "mimetype": "text/x-python",
   "name": "python",
   "nbconvert_exporter": "python",
   "pygments_lexer": "ipython3",
   "version": "3.8.11"
  }
 },
 "nbformat": 4,
 "nbformat_minor": 5
}
